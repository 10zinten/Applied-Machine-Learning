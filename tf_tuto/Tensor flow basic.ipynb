{
 "cells": [
  {
   "cell_type": "code",
   "execution_count": 48,
   "metadata": {
    "collapsed": true
   },
   "outputs": [],
   "source": [
    "import tensorflow as tf \n",
    "import numpy as np"
   ]
  },
  {
   "cell_type": "markdown",
   "metadata": {},
   "source": [
    "- Tensorflow is a library for numerical computation where data is flows through the graph\n",
    "- Data in Tensorflow is represented by n-dimensional arrays called Tensors \n",
    "- Graph is made of data(Tensors) and mathematical operators\n",
    "    - Nodes on the graph: represents mathematical operations\n",
    "    - Edges on the graph: represents Tensors that flow between operatioins "
   ]
  },
  {
   "cell_type": "markdown",
   "metadata": {},
   "source": [
    "# 1) Graph in Tensorflow\n",
    "\n",
    "- Graph is the backbone of TensorFlow and every computation/operation/variables reside on the graph. \n",
    "- Everything that happens in the code, resides on a default graph provided by TensorFlow. \n",
    "- You can access this graph by"
   ]
  },
  {
   "cell_type": "code",
   "execution_count": 6,
   "metadata": {},
   "outputs": [
    {
     "data": {
      "text/plain": [
       "[]"
      ]
     },
     "execution_count": 6,
     "metadata": {},
     "output_type": "execute_result"
    }
   ],
   "source": [
    "graph = tf.get_default_graph()\n",
    "graph.get_operations() # print [] since no operations created yet "
   ]
  },
  {
   "cell_type": "code",
   "execution_count": 7,
   "metadata": {
    "collapsed": true
   },
   "outputs": [],
   "source": [
    "for op in graph.get_operations():\n",
    "    print(op.name)"
   ]
  },
  {
   "cell_type": "markdown",
   "metadata": {},
   "source": [
    "# 2)TensorFlow Session\n",
    "- A graph is used to define operations, but the operations are only run within a session. \n",
    "- Graphs and sessions are created independently of each other. \n",
    "- You can imagine graph to be similar to a blueprint, and a session to be similar to a construction site.\n",
    "\n",
    "- Graph only defines the computations or builds the blueprint. However, there are no variables, no values unless we run the graph or part of the graph within a session.\n",
    "\n",
    "### You can create a session like this:"
   ]
  },
  {
   "cell_type": "code",
   "execution_count": 9,
   "metadata": {},
   "outputs": [],
   "source": [
    "sess=tf.Session()\n",
    "pass \n",
    "sess.close() # Whenever, you open a session, you need to remember to close it"
   ]
  },
  {
   "cell_type": "markdown",
   "metadata": {},
   "source": [
    "#####  you can use ‘with block’ like this"
   ]
  },
  {
   "cell_type": "code",
   "execution_count": 19,
   "metadata": {},
   "outputs": [],
   "source": [
    "f = tf.constant(4)\n",
    "with tf.Session() as sess:\n",
    "    sess.run(f)"
   ]
  },
  {
   "cell_type": "markdown",
   "metadata": {},
   "source": [
    "# 3) Tensors in TensorFlow\n",
    "- TF holds data in Tensors which are similar to numPy multi-dimensional arrays\n",
    "\n",
    "### a) Constant\n",
    "- Constants are whose value can't be changed"
   ]
  },
  {
   "cell_type": "code",
   "execution_count": 22,
   "metadata": {},
   "outputs": [
    {
     "data": {
      "text/plain": [
       "<tf.Tensor 'Const_3:0' shape=() dtype=float32>"
      ]
     },
     "execution_count": 22,
     "metadata": {},
     "output_type": "execute_result"
    }
   ],
   "source": [
    "a = tf.constant(3.0)\n",
    "a"
   ]
  },
  {
   "cell_type": "code",
   "execution_count": 23,
   "metadata": {},
   "outputs": [
    {
     "name": "stdout",
     "output_type": "stream",
     "text": [
      "Tensor(\"Const_3:0\", shape=(), dtype=float32)\n"
     ]
    }
   ],
   "source": [
    "print(a)"
   ]
  },
  {
   "cell_type": "markdown",
   "metadata": {},
   "source": [
    "- Can access the constant \"a\" only when running it inside the session"
   ]
  },
  {
   "cell_type": "code",
   "execution_count": 25,
   "metadata": {},
   "outputs": [
    {
     "name": "stdout",
     "output_type": "stream",
     "text": [
      "3.0\n"
     ]
    }
   ],
   "source": [
    "with tf.Session() as sess:\n",
    "    print(sess.run(a)) # accessing constant \"a\""
   ]
  },
  {
   "cell_type": "markdown",
   "metadata": {},
   "source": [
    "### b) Variables: \n",
    "- Can hold diffrent variables\n",
    "- They need to be separately initialized by an init op"
   ]
  },
  {
   "cell_type": "code",
   "execution_count": 28,
   "metadata": {},
   "outputs": [
    {
     "data": {
      "text/plain": [
       "<tf.Variable 'Test_var:0' shape=() dtype=float32_ref>"
      ]
     },
     "execution_count": 28,
     "metadata": {},
     "output_type": "execute_result"
    }
   ],
   "source": [
    "b = tf.Variable(2.0, name='Test_var')\n",
    "b"
   ]
  },
  {
   "cell_type": "code",
   "execution_count": 29,
   "metadata": {
    "collapsed": true
   },
   "outputs": [],
   "source": [
    "init_op = tf.global_variables_initializer()"
   ]
  },
  {
   "cell_type": "markdown",
   "metadata": {},
   "source": [
    "- This will add init_op to our tensorflow default graph.\n",
    "- Need to run init_op before you try to access your variable"
   ]
  },
  {
   "cell_type": "code",
   "execution_count": 31,
   "metadata": {},
   "outputs": [
    {
     "name": "stdout",
     "output_type": "stream",
     "text": [
      "2.0\n"
     ]
    }
   ],
   "source": [
    "with tf.Session() as sess:\n",
    "    sess.run(init_op) # initializing variables\n",
    "    print(sess.run(b)) # accessing variable \"b\" "
   ]
  },
  {
   "cell_type": "markdown",
   "metadata": {},
   "source": [
    "- Operations on the graph"
   ]
  },
  {
   "cell_type": "code",
   "execution_count": 32,
   "metadata": {},
   "outputs": [
    {
     "name": "stdout",
     "output_type": "stream",
     "text": [
      "Const\n",
      "Const_1\n",
      "Const_2\n",
      "Const_3\n",
      "Test_var/initial_value\n",
      "Test_var\n",
      "Test_var/Assign\n",
      "Test_var/read\n",
      "init\n"
     ]
    }
   ],
   "source": [
    "graph = tf.get_default_graph()\n",
    "for op in graph.get_operations():\n",
    "    print(op.name)"
   ]
  },
  {
   "cell_type": "markdown",
   "metadata": {},
   "source": [
    "### c) Placeholders \n",
    "- They are tensors which are waiting to be initialized/fed.\n",
    "- Used for training data which is only fed when the code is actually run inside a session\n",
    "- feed_dict:\n",
    "  - What is fed to Placeholder\n",
    "  - keys value pairs for holding data"
   ]
  },
  {
   "cell_type": "code",
   "execution_count": 33,
   "metadata": {},
   "outputs": [
    {
     "name": "stdout",
     "output_type": "stream",
     "text": [
      "6.0\n"
     ]
    }
   ],
   "source": [
    "a = tf.placeholder(\"float\")\n",
    "b = tf.placeholder(\"float\")\n",
    "y = tf.multiply(a, b)\n",
    "feed_dict = {a: 2, b: 3}\n",
    "with tf.Session() as sess:\n",
    "    print(sess.run(y, feed_dict))"
   ]
  },
  {
   "cell_type": "markdown",
   "metadata": {},
   "source": [
    "# TensorFlow functions \n",
    "\n",
    "#### 1) Create a random normal distribution:\n",
    "- Use random_normal to create random values from a normal distribution. \n",
    "- In this example, w is a variable which is of size 784*10 with random values with standard deviation 0.01"
   ]
  },
  {
   "cell_type": "code",
   "execution_count": 35,
   "metadata": {},
   "outputs": [],
   "source": [
    "w = tf.Variable(tf.random_normal([784, 10], stddev=0.01))"
   ]
  },
  {
   "cell_type": "markdown",
   "metadata": {},
   "source": [
    "#### 2) Reduce_mean:\n",
    "- calculates the mean of an array"
   ]
  },
  {
   "cell_type": "code",
   "execution_count": 46,
   "metadata": {},
   "outputs": [
    {
     "name": "stdout",
     "output_type": "stream",
     "text": [
      "35\n"
     ]
    }
   ],
   "source": [
    "b = tf.Variable([10, 20, 30, 40, 50, 60], name='t')\n",
    "with tf.Session() as sess:\n",
    "    sess.run(tf.global_variables_initializer())\n",
    "    print(sess.run(tf.reduce_mean(b)))"
   ]
  },
  {
   "cell_type": "markdown",
   "metadata": {},
   "source": [
    "#### 3) ArgMax:\n",
    "- Very similar to python argmax. \n",
    "- Gets you the maximum value from a tensor along the specified axis"
   ]
  },
  {
   "cell_type": "code",
   "execution_count": 47,
   "metadata": {},
   "outputs": [
    {
     "name": "stdout",
     "output_type": "stream",
     "text": [
      "[2 0]\n"
     ]
    }
   ],
   "source": [
    "a=[ [0.1, 0.2, 0.3],\n",
    "    [20,  2,   3  ]]\n",
    "b = tf.Variable(a, name='b')\n",
    "with tf.Session() as sess:\n",
    "    sess.run(tf.global_variables_initializer())\n",
    "    print(sess.run(tf.argmax(b,1)))"
   ]
  },
  {
   "cell_type": "markdown",
   "metadata": {},
   "source": [
    "# Lineer regression model with TensorFlow\n",
    "- Problem statement: \n",
    "  - In linear regression, you get a lot of data-points and try to fit them on a straight line.\n",
    "  - For this example, we will create 100 datapoints and try to fit them into a line\n",
    "  \n",
    "### a) Creating training data set:\n",
    "- trainX has values between -1 and 1\n",
    "- trainY has 3 times the trainX and some randomness"
   ]
  },
  {
   "cell_type": "code",
   "execution_count": 49,
   "metadata": {
    "collapsed": true
   },
   "outputs": [],
   "source": [
    "trainX = np.linspace(-1, 1, 101)\n",
    "trainY = 3 * trainX + np.random.randn(*trainX.shape) * 0.33"
   ]
  },
  {
   "cell_type": "markdown",
   "metadata": {},
   "source": [
    "### b) Placeholder"
   ]
  },
  {
   "cell_type": "code",
   "execution_count": 50,
   "metadata": {
    "collapsed": true
   },
   "outputs": [],
   "source": [
    "X = tf.placeholder('float')\n",
    "Y = tf.placeholder('float')"
   ]
  },
  {
   "cell_type": "markdown",
   "metadata": {},
   "source": [
    "### c) Modeling\n",
    "- Linear regression model is y_model=w*x \n",
    "- we have to calculate the value of w through our model"
   ]
  },
  {
   "cell_type": "code",
   "execution_count": 53,
   "metadata": {},
   "outputs": [],
   "source": [
    "# initialize weight to zero and create a model to find optimal weight\n",
    "w = tf.Variable(0.0, name='wieghts')\n",
    "y_model = tf.multiply(X, w)\n",
    "\n",
    "# define the cost as square of (Y-y_model)\n",
    "cost = (tf.pow(Y-y_model, 2))\n",
    "\n",
    "# Use Gradient Descent Optimizer to update the gradient after each iteration while minimizing the specified cost\n",
    "# With learning rate = 0.01\n",
    "train_op = tf.train.GradientDescentOptimizer(0.01).minimize(cost)"
   ]
  },
  {
   "cell_type": "markdown",
   "metadata": {},
   "source": [
    "### d) Training \n",
    "- Till this point, we have only defined the graph. No computation has happened\n",
    "- None of the TensorFlow variables have any value. \n",
    "- In order to run this graph, we need to create a Session and run. \n",
    "- Before that we need to create the init_op to initialize all variables"
   ]
  },
  {
   "cell_type": "code",
   "execution_count": 56,
   "metadata": {
    "collapsed": true
   },
   "outputs": [],
   "source": [
    "init = tf.global_variables_initializer()"
   ]
  },
  {
   "cell_type": "code",
   "execution_count": 57,
   "metadata": {},
   "outputs": [
    {
     "name": "stdout",
     "output_type": "stream",
     "text": [
      "3.0805\n"
     ]
    }
   ],
   "source": [
    "with tf.Session() as sess:\n",
    "    sess.run(init)\n",
    "    for i in range(100):\n",
    "        for (x, y) in zip(trainX, trainY):\n",
    "            sess.run(train_op, feed_dict={X: x, Y:y})\n",
    "    print(sess.run(w))"
   ]
  },
  {
   "cell_type": "markdown",
   "metadata": {},
   "source": [
    "## Notes:\n",
    "- #### new session block after this code and try to print w"
   ]
  },
  {
   "cell_type": "code",
   "execution_count": 59,
   "metadata": {},
   "outputs": [
    {
     "name": "stdout",
     "output_type": "stream",
     "text": [
      "0.0\n"
     ]
    }
   ],
   "source": [
    "with tf.Session() as sess:\n",
    "    sess.run(init)\n",
    "    print(sess.run(w))"
   ]
  },
  {
   "cell_type": "markdown",
   "metadata": {},
   "source": [
    "- Expected output is 0.0. \n",
    "- That’s the idea of symbolic computation. \n",
    "- Once, we have gotten out of session created earlier, all the operations cease to exist."
   ]
  },
  {
   "cell_type": "code",
   "execution_count": null,
   "metadata": {
    "collapsed": true
   },
   "outputs": [],
   "source": []
  }
 ],
 "metadata": {
  "kernelspec": {
   "display_name": "Python 3",
   "language": "python",
   "name": "python3"
  },
  "language_info": {
   "codemirror_mode": {
    "name": "ipython",
    "version": 3
   },
   "file_extension": ".py",
   "mimetype": "text/x-python",
   "name": "python",
   "nbconvert_exporter": "python",
   "pygments_lexer": "ipython3",
   "version": "3.5.2"
  }
 },
 "nbformat": 4,
 "nbformat_minor": 2
}
